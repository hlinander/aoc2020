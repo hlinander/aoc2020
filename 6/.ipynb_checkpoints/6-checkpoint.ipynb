{
 "cells": [
  {
   "cell_type": "code",
   "execution_count": 1,
   "metadata": {},
   "outputs": [],
   "source": [
    "import System.IO\n",
    "import Control.Monad\n",
    "import Data.List.Split\n",
    "import Data.Bool\n",
    "import Data.Set (Set)\n",
    "import qualified Data.Text as T\n",
    "import qualified Data.Set as Set\n",
    "import Text.Regex.Posix\n",
    "import Debug.Trace"
   ]
  },
  {
   "cell_type": "code",
   "execution_count": 2,
   "metadata": {},
   "outputs": [],
   "source": [
    "parseGroup setOp g = \n",
    "  let\n",
    "    persons = splitOn \" \" g\n",
    "    allyes = foldl1 setOp (map Set.fromList persons)\n",
    "    nyes = Set.size allyes\n",
    "  in\n",
    "    nyes"
   ]
  },
  {
   "cell_type": "code",
   "execution_count": 3,
   "metadata": {},
   "outputs": [],
   "source": [
    "rep '\\n' = ' '\n",
    "rep c = c"
   ]
  },
  {
   "cell_type": "code",
   "execution_count": 5,
   "metadata": {},
   "outputs": [],
   "source": [
    "process1 :: String -> IO()\n",
    "process1 d = \n",
    "  let\n",
    "      groups = splitOn \"  \" (map rep d)\n",
    "      yesSomeoneGroups = map (parseGroup Set.union) groups\n",
    "      yesEveryoneGroups = map (parseGroup Set.intersection) groups\n",
    "      s1 = sum yesSomeoneGroups\n",
    "      s2 = sum yesEveryoneGroups\n",
    "  in\n",
    "    print (s1, s2)"
   ]
  },
  {
   "cell_type": "code",
   "execution_count": 8,
   "metadata": {},
   "outputs": [],
   "source": [
    "parseData f = do \n",
    " d <- readFile \"input\"\n",
    " f (T.unpack $ T.strip $ T.pack d)"
   ]
  },
  {
   "cell_type": "code",
   "execution_count": 9,
   "metadata": {},
   "outputs": [
    {
     "data": {
      "text/plain": [
       "(7128,3640)"
      ]
     },
     "metadata": {},
     "output_type": "display_data"
    }
   ],
   "source": [
    "parseData process1"
   ]
  }
 ],
 "metadata": {
  "kernelspec": {
   "display_name": "Haskell",
   "language": "haskell",
   "name": "haskell"
  },
  "language_info": {
   "codemirror_mode": "ihaskell",
   "file_extension": ".hs",
   "mimetype": "text/x-haskell",
   "name": "haskell",
   "pygments_lexer": "Haskell",
   "version": "8.6.5"
  }
 },
 "nbformat": 4,
 "nbformat_minor": 4
}
