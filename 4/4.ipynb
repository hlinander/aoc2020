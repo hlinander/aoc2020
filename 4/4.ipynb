{
 "cells": [
  {
   "cell_type": "code",
   "execution_count": 1,
   "metadata": {},
   "outputs": [],
   "source": [
    "import System.IO\n",
    "import Control.Monad\n",
    "import Data.List.Split\n",
    "import Data.Bool\n",
    "import Data.Set (Set)\n",
    "import qualified Data.Set as Set\n",
    "import Text.Regex.Posix"
   ]
  },
  {
   "cell_type": "code",
   "execution_count": 63,
   "metadata": {},
   "outputs": [],
   "source": [
    "stoi :: String -> Int\n",
    "stoi = read"
   ]
  },
  {
   "cell_type": "code",
   "execution_count": 64,
   "metadata": {},
   "outputs": [],
   "source": [
    "vByr :: String -> Bool\n",
    "vByr x = (x =~ \"^[0-9][0-9][0-9][0-9]$\" :: Bool) &&\n",
    "      (stoi x >= 1920 && stoi x <= 2002)\n",
    "  \n",
    "vIyr :: String -> Bool\n",
    "vIyr x = (x =~ \"^[0-9][0-9][0-9][0-9]$\" :: Bool) &&\n",
    "      (stoi x >= 2010 && stoi x <= 2020)\n",
    "\n",
    "vEyr :: String -> Bool\n",
    "vEyr x = (x =~ \"^[0-9][0-9][0-9][0-9]$\" :: Bool) &&\n",
    "      (stoi x >= 2020 && stoi x <= 2030)\n",
    "\n",
    "vHgt :: String -> Bool\n",
    "vHgt x = case x =~ \"^([0-9]+)(cm|in)$\" :: [[String]] of\n",
    "  [] -> False\n",
    "  [[_, n, u]] -> case u of\n",
    "    \"cm\" -> stoi n >= 150 && stoi n <= 193\n",
    "    \"in\" -> stoi n >= 59 && stoi n <= 76\n",
    "    _ -> False\n",
    "    \n",
    "vHcl :: String -> Bool\n",
    "vHcl x = x =~ \"^#([a-f0-9]{6}$)\" :: Bool\n",
    "\n",
    "vEcl :: String -> Bool\n",
    "vEcl x = x =~ \"^(amb|blu|brn|gry|grn|hzl|oth)$\" :: Bool\n",
    "\n",
    "vPid :: String -> Bool\n",
    "vPid x = x =~ \"^[0-9]{9}$\""
   ]
  },
  {
   "cell_type": "code",
   "execution_count": 100,
   "metadata": {},
   "outputs": [],
   "source": [
    "validateField (\"byr\", v) = vByr v\n",
    "validateField (\"iyr\", v) = vIyr v\n",
    "validateField (\"eyr\", v) = vEyr v\n",
    "validateField (\"hgt\", v) = vHgt v\n",
    "validateField (\"hcl\", v) = vHcl v\n",
    "validateField (\"ecl\", v) = vEcl v\n",
    "validateField (\"pid\", v) = vPid v\n",
    "validateField (\"cid\", v) = True\n",
    "validateField (x, v) = True\n",
    "validateField x = True"
   ]
  },
  {
   "cell_type": "code",
   "execution_count": 97,
   "metadata": {},
   "outputs": [],
   "source": [
    "needed = [\"byr\", \"iyr\", \"eyr\", \"hgt\", \"hcl\", \"ecl\", \"pid\"]"
   ]
  },
  {
   "cell_type": "code",
   "execution_count": 66,
   "metadata": {},
   "outputs": [],
   "source": [
    "parseField f =\n",
    "  let\n",
    "    get [n, v] = (n, v)\n",
    "    get [x] = (x, \"error\")\n",
    "    o = get $ splitOn \":\" f\n",
    "  in\n",
    "    o"
   ]
  },
  {
   "cell_type": "code",
   "execution_count": 67,
   "metadata": {},
   "outputs": [],
   "source": [
    "parsePassport p = map parseField (splitOn \" \" p)"
   ]
  },
  {
   "cell_type": "code",
   "execution_count": 68,
   "metadata": {},
   "outputs": [],
   "source": [
    "validatePassport p = null $ Set.difference (Set.fromList needed) (Set.fromList $ map fst p)"
   ]
  },
  {
   "cell_type": "code",
   "execution_count": 69,
   "metadata": {},
   "outputs": [],
   "source": [
    "rep '\\n' = ' '\n",
    "rep c = c"
   ]
  },
  {
   "cell_type": "code",
   "execution_count": 108,
   "metadata": {},
   "outputs": [
    {
     "data": {
      "text/html": [
       "<style>/* Styles used for the Hoogle display in the pager */\n",
       ".hoogle-doc {\n",
       "display: block;\n",
       "padding-bottom: 1.3em;\n",
       "padding-left: 0.4em;\n",
       "}\n",
       ".hoogle-code {\n",
       "display: block;\n",
       "font-family: monospace;\n",
       "white-space: pre;\n",
       "}\n",
       ".hoogle-text {\n",
       "display: block;\n",
       "}\n",
       ".hoogle-name {\n",
       "color: green;\n",
       "font-weight: bold;\n",
       "}\n",
       ".hoogle-head {\n",
       "font-weight: bold;\n",
       "}\n",
       ".hoogle-sub {\n",
       "display: block;\n",
       "margin-left: 0.4em;\n",
       "}\n",
       ".hoogle-package {\n",
       "font-weight: bold;\n",
       "font-style: italic;\n",
       "}\n",
       ".hoogle-module {\n",
       "font-weight: bold;\n",
       "}\n",
       ".hoogle-class {\n",
       "font-weight: bold;\n",
       "}\n",
       ".get-type {\n",
       "color: green;\n",
       "font-weight: bold;\n",
       "font-family: monospace;\n",
       "display: block;\n",
       "white-space: pre-wrap;\n",
       "}\n",
       ".show-type {\n",
       "color: green;\n",
       "font-weight: bold;\n",
       "font-family: monospace;\n",
       "margin-left: 1em;\n",
       "}\n",
       ".mono {\n",
       "font-family: monospace;\n",
       "display: block;\n",
       "}\n",
       ".err-msg {\n",
       "color: red;\n",
       "font-style: italic;\n",
       "font-family: monospace;\n",
       "white-space: pre;\n",
       "display: block;\n",
       "}\n",
       "#unshowable {\n",
       "color: red;\n",
       "font-weight: bold;\n",
       "}\n",
       ".err-msg.in.collapse {\n",
       "padding-top: 0.7em;\n",
       "}\n",
       ".highlight-code {\n",
       "white-space: pre;\n",
       "font-family: monospace;\n",
       "}\n",
       ".suggestion-warning { \n",
       "font-weight: bold;\n",
       "color: rgb(200, 130, 0);\n",
       "}\n",
       ".suggestion-error { \n",
       "font-weight: bold;\n",
       "color: red;\n",
       "}\n",
       ".suggestion-name {\n",
       "font-weight: bold;\n",
       "}\n",
       "</style><div class=\"suggestion-name\" style=\"clear:both;\">Use and</div><div class=\"suggestion-row\" style=\"float: left;\"><div class=\"suggestion-warning\">Found:</div><div class=\"highlight-code\" id=\"haskell\">foldl (&&) True</div></div><div class=\"suggestion-row\" style=\"float: left;\"><div class=\"suggestion-warning\">Why Not:</div><div class=\"highlight-code\" id=\"haskell\">and</div></div><div class=\"suggestion-name\" style=\"clear:both;\">Redundant $</div><div class=\"suggestion-row\" style=\"float: left;\"><div class=\"suggestion-warning\">Found:</div><div class=\"highlight-code\" id=\"haskell\">print $ (n, n2)</div></div><div class=\"suggestion-row\" style=\"float: left;\"><div class=\"suggestion-warning\">Why Not:</div><div class=\"highlight-code\" id=\"haskell\">print (n, n2)</div></div>"
      ],
      "text/plain": [
       "Line 8: Use and\n",
       "Found:\n",
       "foldl (&&) True\n",
       "Why not:\n",
       "andLine 13: Redundant $\n",
       "Found:\n",
       "print $ (n, n2)\n",
       "Why not:\n",
       "print (n, n2)"
      ]
     },
     "metadata": {},
     "output_type": "display_data"
    }
   ],
   "source": [
    "process1 :: String -> IO()\n",
    "process1 d = \n",
    "  let\n",
    "    d2 = splitOn \"  \" (map rep d)\n",
    "    ps = map parsePassport d2\n",
    "    vs = filter validatePassport ps\n",
    "    vfs = map (map validateField) vs\n",
    "    vvfs = map (foldl (&&) True) vfs\n",
    "    vvvfs = filter (==True) vvfs\n",
    "    n = length vs\n",
    "    n2 = length vvvfs\n",
    "  in\n",
    "    print $ (n, n2)"
   ]
  },
  {
   "cell_type": "code",
   "execution_count": 109,
   "metadata": {},
   "outputs": [],
   "source": [
    "parseData f = do \n",
    " d <- readFile \"input\"\n",
    " f d"
   ]
  },
  {
   "cell_type": "code",
   "execution_count": 110,
   "metadata": {},
   "outputs": [
    {
     "data": {
      "text/plain": [
       "(170,103)"
      ]
     },
     "metadata": {},
     "output_type": "display_data"
    }
   ],
   "source": [
    "parseData process1"
   ]
  },
  {
   "cell_type": "code",
   "execution_count": null,
   "metadata": {},
   "outputs": [],
   "source": []
  },
  {
   "cell_type": "code",
   "execution_count": null,
   "metadata": {},
   "outputs": [],
   "source": []
  }
 ],
 "metadata": {
  "kernelspec": {
   "display_name": "Haskell",
   "language": "haskell",
   "name": "haskell"
  },
  "language_info": {
   "codemirror_mode": "ihaskell",
   "file_extension": ".hs",
   "mimetype": "text/x-haskell",
   "name": "haskell",
   "pygments_lexer": "Haskell",
   "version": "8.6.5"
  }
 },
 "nbformat": 4,
 "nbformat_minor": 4
}
