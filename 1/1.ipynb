{
 "cells": [
  {
   "cell_type": "code",
   "execution_count": 2,
   "metadata": {},
   "outputs": [],
   "source": [
    "import System.IO\n",
    "import Control.Monad"
   ]
  },
  {
   "cell_type": "code",
   "execution_count": 19,
   "metadata": {},
   "outputs": [],
   "source": [
    "stoi :: String -> Int\n",
    "stoi = read"
   ]
  },
  {
   "cell_type": "code",
   "execution_count": 57,
   "metadata": {},
   "outputs": [],
   "source": [
    "process1 :: String -> IO()\n",
    "process1 d = \n",
    " let l = lines d\n",
    "     ns = map stoi l\n",
    "     all = [ (i * j, i + j) | i <- ns, j <- ns]\n",
    "     theone = filter (\\(prod, sum) -> sum == 2020) all\n",
    " in\n",
    "     print theone"
   ]
  },
  {
   "cell_type": "code",
   "execution_count": 58,
   "metadata": {},
   "outputs": [],
   "source": [
    "process2 :: String -> IO()\n",
    "process2 d = \n",
    " let l = lines d\n",
    "     ns = map stoi l\n",
    "     all = [ (i * j * k, i + j + k) | i <- ns, j <- ns, k <- ns]\n",
    "     theone = filter (\\(prod, sum) -> sum == 2020) all\n",
    " in\n",
    "     print theone"
   ]
  },
  {
   "cell_type": "code",
   "execution_count": 59,
   "metadata": {},
   "outputs": [],
   "source": [
    "parseData f = do \n",
    " d <- readFile \"input\"\n",
    " f d"
   ]
  },
  {
   "cell_type": "code",
   "execution_count": 60,
   "metadata": {},
   "outputs": [
    {
     "data": {
      "text/plain": [
       "[(731731,2020),(731731,2020)]"
      ]
     },
     "metadata": {},
     "output_type": "display_data"
    },
    {
     "data": {
      "text/plain": [
       "[(116115990,2020),(116115990,2020),(116115990,2020),(116115990,2020),(116115990,2020),(116115990,2020)]"
      ]
     },
     "metadata": {},
     "output_type": "display_data"
    }
   ],
   "source": [
    "parseData process1\n",
    "parseData process2"
   ]
  },
  {
   "cell_type": "code",
   "execution_count": null,
   "metadata": {},
   "outputs": [],
   "source": []
  }
 ],
 "metadata": {
  "kernelspec": {
   "display_name": "Haskell",
   "language": "haskell",
   "name": "haskell"
  },
  "language_info": {
   "codemirror_mode": "ihaskell",
   "file_extension": ".hs",
   "mimetype": "text/x-haskell",
   "name": "haskell",
   "pygments_lexer": "Haskell",
   "version": "8.6.5"
  }
 },
 "nbformat": 4,
 "nbformat_minor": 4
}
