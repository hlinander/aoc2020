{
 "cells": [
  {
   "cell_type": "code",
   "execution_count": 3,
   "metadata": {},
   "outputs": [
    {
     "data": {
      "text/html": [
       "<style>/* Styles used for the Hoogle display in the pager */\n",
       ".hoogle-doc {\n",
       "display: block;\n",
       "padding-bottom: 1.3em;\n",
       "padding-left: 0.4em;\n",
       "}\n",
       ".hoogle-code {\n",
       "display: block;\n",
       "font-family: monospace;\n",
       "white-space: pre;\n",
       "}\n",
       ".hoogle-text {\n",
       "display: block;\n",
       "}\n",
       ".hoogle-name {\n",
       "color: green;\n",
       "font-weight: bold;\n",
       "}\n",
       ".hoogle-head {\n",
       "font-weight: bold;\n",
       "}\n",
       ".hoogle-sub {\n",
       "display: block;\n",
       "margin-left: 0.4em;\n",
       "}\n",
       ".hoogle-package {\n",
       "font-weight: bold;\n",
       "font-style: italic;\n",
       "}\n",
       ".hoogle-module {\n",
       "font-weight: bold;\n",
       "}\n",
       ".hoogle-class {\n",
       "font-weight: bold;\n",
       "}\n",
       ".get-type {\n",
       "color: green;\n",
       "font-weight: bold;\n",
       "font-family: monospace;\n",
       "display: block;\n",
       "white-space: pre-wrap;\n",
       "}\n",
       ".show-type {\n",
       "color: green;\n",
       "font-weight: bold;\n",
       "font-family: monospace;\n",
       "margin-left: 1em;\n",
       "}\n",
       ".mono {\n",
       "font-family: monospace;\n",
       "display: block;\n",
       "}\n",
       ".err-msg {\n",
       "color: red;\n",
       "font-style: italic;\n",
       "font-family: monospace;\n",
       "white-space: pre;\n",
       "display: block;\n",
       "}\n",
       "#unshowable {\n",
       "color: red;\n",
       "font-weight: bold;\n",
       "}\n",
       ".err-msg.in.collapse {\n",
       "padding-top: 0.7em;\n",
       "}\n",
       ".highlight-code {\n",
       "white-space: pre;\n",
       "font-family: monospace;\n",
       "}\n",
       ".suggestion-warning { \n",
       "font-weight: bold;\n",
       "color: rgb(200, 130, 0);\n",
       "}\n",
       ".suggestion-error { \n",
       "font-weight: bold;\n",
       "color: red;\n",
       "}\n",
       ".suggestion-name {\n",
       "font-weight: bold;\n",
       "}\n",
       "</style><div class=\"suggestion-name\" style=\"clear:both;\">Unused LANGUAGE pragma</div><div class=\"suggestion-row\" style=\"float: left;\"><div class=\"suggestion-warning\">Found:</div><div class=\"highlight-code\" id=\"haskell\">{-# LANGUAGE OverloadedStrings #-}</div></div><div class=\"suggestion-row\" style=\"float: left;\"><div class=\"suggestion-warning\">Why Not:</div><div class=\"highlight-code\" id=\"haskell\"></div></div>"
      ],
      "text/plain": [
       "Line 1: Unused LANGUAGE pragma\n",
       "Found:\n",
       "{-# LANGUAGE OverloadedStrings #-}\n",
       "Why not:"
      ]
     },
     "metadata": {},
     "output_type": "display_data"
    }
   ],
   "source": [
    "{-# LANGUAGE OverloadedStrings #-}\n",
    "import System.IO\n",
    "import Control.Monad\n",
    "import Data.List.Split\n",
    "import Data.Bool\n",
    "import Data.Set (Set)\n",
    "import qualified Data.Text as T\n",
    "import qualified Data.Text.IO as TIO\n",
    "import qualified Data.Set as Set\n",
    "import Text.Regex.Posix\n",
    "import qualified Data.Map as Map\n",
    "import Debug.Trace\n",
    "import qualified Data.Attoparsec.Text as A\n",
    "import Control.Applicative\n",
    "import Data.Either"
   ]
  },
  {
   "cell_type": "code",
   "execution_count": 73,
   "metadata": {},
   "outputs": [],
   "source": [
    "parseData f = do \n",
    " d <- readFile \"input\"\n",
    " f d"
   ]
  },
  {
   "cell_type": "code",
   "execution_count": 96,
   "metadata": {},
   "outputs": [],
   "source": [
    "data Op = Jmp Int | Nop Int | Acc Int"
   ]
  },
  {
   "cell_type": "code",
   "execution_count": 97,
   "metadata": {},
   "outputs": [],
   "source": [
    "runOp (Jmp n) (ip, acc) = (ip + n, acc)\n",
    "runOp (Nop n) (ip, acc) = (ip + 1, acc)\n",
    "runOp (Acc n) (ip, acc) = (ip + 1, acc + n)"
   ]
  },
  {
   "cell_type": "code",
   "execution_count": 98,
   "metadata": {},
   "outputs": [],
   "source": [
    "runProgram program ips (ip, acc) =\n",
    "  let\n",
    "    instruction = if ip < length program then Just (program !! ip) else Nothing\n",
    "    ip' = case Map.lookup ip ips of\n",
    "        Just _ -> Map.adjust (+1) ip ips\n",
    "        Nothing -> Map.insert ip 1 ips\n",
    "  in\n",
    "    case instruction of\n",
    "      Just i -> case Map.lookup ip ips of\n",
    "        Just _ -> (\"inf\", acc)\n",
    "        Nothing -> runProgram program ip' (runOp i (ip, acc))\n",
    "      Nothing -> (\"term\", acc)"
   ]
  },
  {
   "cell_type": "code",
   "execution_count": 113,
   "metadata": {},
   "outputs": [],
   "source": [
    "parseNOP = do\n",
    "    A.string \"nop\"\n",
    "    A.space\n",
    "    n <- A.signed A.decimal\n",
    "    return (Nop n)\n",
    "    \n",
    "parseJMP = do\n",
    "    A.string \"jmp\"\n",
    "    A.space\n",
    "    n <- A.signed A.decimal\n",
    "    return (Jmp n)\n",
    "\n",
    "parseACC = do\n",
    "    A.string \"acc\"\n",
    "    A.space\n",
    "    n <- A.signed A.decimal\n",
    "    return (Acc n)"
   ]
  },
  {
   "cell_type": "code",
   "execution_count": 114,
   "metadata": {},
   "outputs": [],
   "source": [
    "parseInstruction = do\n",
    "  instruction <- parseNOP <|> parseJMP <|> parseACC\n",
    "  A.char '\\n'\n",
    "  return instruction"
   ]
  },
  {
   "cell_type": "code",
   "execution_count": 115,
   "metadata": {},
   "outputs": [],
   "source": [
    "parseProgram = A.many1 parseInstruction"
   ]
  },
  {
   "cell_type": "code",
   "execution_count": 116,
   "metadata": {},
   "outputs": [],
   "source": [
    "changeOp (Jmp n) = Nop n\n",
    "changeOp (Nop n) = Jmp n\n",
    "changeOp (Acc n) = Acc n"
   ]
  },
  {
   "cell_type": "code",
   "execution_count": 117,
   "metadata": {},
   "outputs": [],
   "source": [
    "replace :: [a] -> Int -> (a -> a) -> [a]\n",
    "replace xs i op = case splitAt i xs of\n",
    "   (before, old:after) -> before ++ op old: after\n",
    "   _ -> xs"
   ]
  },
  {
   "cell_type": "code",
   "execution_count": 118,
   "metadata": {},
   "outputs": [],
   "source": [
    "changeInstruction program i = replace program i changeOp"
   ]
  },
  {
   "cell_type": "code",
   "execution_count": 119,
   "metadata": {},
   "outputs": [
    {
     "data": {
      "text/plain": [
       "(\"inf\",1087)\n",
       "[(\"term\",780)]"
      ]
     },
     "metadata": {},
     "output_type": "display_data"
    }
   ],
   "source": [
    "f d = \n",
    "  let\n",
    "    program = fromRight [] $ A.parseOnly parseProgram (T.pack d)\n",
    "    changePos = [0..length program - 1]\n",
    "    programs = map (changeInstruction program) changePos\n",
    "    results = map (\\program -> runProgram program Map.empty (0,0)) programs\n",
    "    isTerm (\"term\", v) = True\n",
    "    isTerm (\"inf\", v) = False\n",
    "  in\n",
    "    do\n",
    "        print $ runProgram program Map.empty (0, 0)\n",
    "        print $ filter isTerm results\n",
    "    \n",
    "\n",
    "parseData f"
   ]
  },
  {
   "cell_type": "code",
   "execution_count": null,
   "metadata": {},
   "outputs": [],
   "source": []
  }
 ],
 "metadata": {
  "kernelspec": {
   "display_name": "Haskell",
   "language": "haskell",
   "name": "haskell"
  },
  "language_info": {
   "codemirror_mode": "ihaskell",
   "file_extension": ".hs",
   "mimetype": "text/x-haskell",
   "name": "haskell",
   "pygments_lexer": "Haskell",
   "version": "8.6.5"
  }
 },
 "nbformat": 4,
 "nbformat_minor": 4
}
