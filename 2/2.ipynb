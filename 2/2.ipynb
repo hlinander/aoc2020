{
 "cells": [
  {
   "cell_type": "code",
   "execution_count": 96,
   "metadata": {},
   "outputs": [],
   "source": [
    "import System.IO\n",
    "import Control.Monad\n",
    "import Data.List.Split\n",
    "import Data.Bool"
   ]
  },
  {
   "cell_type": "code",
   "execution_count": 40,
   "metadata": {},
   "outputs": [],
   "source": [
    "stoi :: String -> Int\n",
    "stoi = read"
   ]
  },
  {
   "cell_type": "code",
   "execution_count": 64,
   "metadata": {},
   "outputs": [],
   "source": [
    "parseLine l = \n",
    " let \n",
    "   [p , [c , ':'] , pw] = splitOn \" \" l\n",
    "   [cn1, cn2] = splitOn \"-\" p\n",
    "   n1 = stoi cn1\n",
    "   n2 = stoi cn2\n",
    " in\n",
    "   (n1, n2, c, pw)"
   ]
  },
  {
   "cell_type": "code",
   "execution_count": 65,
   "metadata": {},
   "outputs": [],
   "source": [
    "verify (n1, n2, c, pw) = \n",
    " let \n",
    "  nc = (length $ filter (== c) pw)\n",
    " in\n",
    "  (nc >= n1) && (nc <= n2)"
   ]
  },
  {
   "cell_type": "code",
   "execution_count": 98,
   "metadata": {},
   "outputs": [],
   "source": [
    "verify2 (n1, n2, c, pw) = ((pw !! (n1 - 1)) == c) /= ((pw !! (n2 - 1)) == c)"
   ]
  },
  {
   "cell_type": "code",
   "execution_count": 99,
   "metadata": {},
   "outputs": [],
   "source": [
    "countValid v passwordTuples = length $ filter ((== True) . v) passwordTuples"
   ]
  },
  {
   "cell_type": "code",
   "execution_count": 103,
   "metadata": {},
   "outputs": [],
   "source": [
    "process1 :: String -> IO()\n",
    "process1 d = \n",
    " let l = lines d\n",
    "     nvalid = countValid verify $ map parseLine l\n",
    "     nvalid2 = countValid verify2 $ map parseLine l\n",
    " in\n",
    "     print (nvalid, nvalid2)"
   ]
  },
  {
   "cell_type": "code",
   "execution_count": 104,
   "metadata": {},
   "outputs": [],
   "source": [
    "parseData f = do \n",
    " d <- readFile \"input\"\n",
    " f d"
   ]
  },
  {
   "cell_type": "code",
   "execution_count": 105,
   "metadata": {},
   "outputs": [
    {
     "data": {
      "text/plain": [
       "(600,245)"
      ]
     },
     "metadata": {},
     "output_type": "display_data"
    }
   ],
   "source": [
    "parseData process1"
   ]
  },
  {
   "cell_type": "code",
   "execution_count": null,
   "metadata": {},
   "outputs": [],
   "source": []
  }
 ],
 "metadata": {
  "kernelspec": {
   "display_name": "Haskell",
   "language": "haskell",
   "name": "haskell"
  },
  "language_info": {
   "codemirror_mode": "ihaskell",
   "file_extension": ".hs",
   "mimetype": "text/x-haskell",
   "name": "haskell",
   "pygments_lexer": "Haskell",
   "version": "8.6.5"
  }
 },
 "nbformat": 4,
 "nbformat_minor": 4
}
